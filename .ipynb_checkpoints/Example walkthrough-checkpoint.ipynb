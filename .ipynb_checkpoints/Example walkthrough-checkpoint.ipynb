{
 "cells": [
  {
   "cell_type": "markdown",
   "id": "dfd71012",
   "metadata": {},
   "source": [
    "# This should walk you through how to use our software"
   ]
  },
  {
   "cell_type": "code",
   "execution_count": 1,
   "id": "53776fdd",
   "metadata": {},
   "outputs": [],
   "source": [
    "#First import all the relevant functions\n",
    "import numpy as np\n",
    "import pandas as pd\n",
    "import matplotlib.pyplot as plt\n",
    "import matplotlib\n",
    "import sys,time\n",
    "\n",
    "#Then import my prewritten classes\n",
    "from RunningTheCode import RunTheProgram\n",
    "from PhantomAndMap import Phantom, PatientData"
   ]
  },
  {
   "cell_type": "markdown",
   "id": "6913840c",
   "metadata": {},
   "source": [
    "Now you need to export a .xlsx file from OpenREM:\n",
    "Go to OpenREM -> Fluoroscopy -> (set your preferences and press 'Submit') -> XLSX export\n",
    "\n",
    "Save this wherever you want and keep note of the destination."
   ]
  },
  {
   "cell_type": "code",
   "execution_count": 2,
   "id": "d93ba365",
   "metadata": {},
   "outputs": [],
   "source": [
    "Testfile = 'TestDataset.xlsx' #The destination\n",
    "#(This is a fake dataset produced to demonstrate the code)"
   ]
  },
  {
   "cell_type": "code",
   "execution_count": 3,
   "id": "e0ed01ad",
   "metadata": {},
   "outputs": [],
   "source": [
    "''' We have a simple Phantom model called Phantom'''\n",
    "#return Phantom parameters based on Patient size\n",
    "Height = 170 #cm\n",
    "Weight = 70 #kg\n",
    "P = Phantom(Height, Weight)"
   ]
  },
  {
   "cell_type": "code",
   "execution_count": 4,
   "id": "ed6335f4",
   "metadata": {},
   "outputs": [
    {
     "name": "stdout",
     "output_type": "stream",
     "text": [
      "Curve radius = 12.00490095997562, Flat Width = 15.006126199969524\n"
     ]
    }
   ],
   "source": [
    "#This gives multiple values:\n",
    "CR = P.CurvatureRadius\n",
    "FW = P.Flattenedwidth\n",
    "print(f'Curve radius = {CR}, Flat Width = {FW}')"
   ]
  },
  {
   "cell_type": "code",
   "execution_count": 5,
   "id": "0d731b02",
   "metadata": {
    "scrolled": true
   },
   "outputs": [
    {
     "name": "stdout",
     "output_type": "stream",
     "text": [
      "Primary Displacement = 12.602177215728927 \n",
      "Secondary Displacement = 3.1232960444313673 \n",
      "Isocentre to point on skin where beam hits the patient: 17.98636010864247 \n",
      "(all units are in cm)\n"
     ]
    }
   ],
   "source": [
    "P2 = Phantom(180, 90, 45, 10)\n",
    "#Now, as well as CR and FW,  we can extract\n",
    "PrDisp = P2.PrimaryDisplacement\n",
    "ScDisp = P2.SecondaryDisplacement\n",
    "ICB = P2.CentreToBeamEntry\n",
    "print(f'Primary Displacement = {PrDisp} \\nSecondary Displacement = {ScDisp} \\nIsocentre to point on skin where beam hits the patient: {ICB} \\n(all units are in cm)')"
   ]
  },
  {
   "cell_type": "markdown",
   "id": "dca88520",
   "metadata": {},
   "source": [
    "Note: to save time in loops we can simply define the patient parameters:"
   ]
  },
  {
   "cell_type": "code",
   "execution_count": 6,
   "id": "00686e62",
   "metadata": {},
   "outputs": [
    {
     "name": "stdout",
     "output_type": "stream",
     "text": [
      "Primary Displacement = 11.431620648268499 \n",
      "Secondary Displacement = 2.8331878643647332 \n",
      "Isocentre to point on skin where beam hits the patient: 16.31569228756137 \n",
      "(all units are in cm)\n"
     ]
    }
   ],
   "source": [
    "P2 = Phantom(None, None, 45, 10, CurvatureRadius = 12, Flattenedwidth = 15)\n",
    "#Now, as well as CR and FW,  we can extract\n",
    "PrDisp = P2.PrimaryDisplacement\n",
    "ScDisp = P2.SecondaryDisplacement\n",
    "ICB = P2.CentreToBeamEntry\n",
    "print(f'Primary Displacement = {PrDisp} \\nSecondary Displacement = {ScDisp} \\nIsocentre to point on skin where beam hits the patient: {ICB} \\n(all units are in cm)')"
   ]
  },
  {
   "cell_type": "code",
   "execution_count": null,
   "id": "e9fabd48",
   "metadata": {},
   "outputs": [],
   "source": []
  },
  {
   "cell_type": "code",
   "execution_count": null,
   "id": "9453dfd9",
   "metadata": {},
   "outputs": [],
   "source": []
  },
  {
   "cell_type": "markdown",
   "id": "c8e947dc",
   "metadata": {},
   "source": [
    "## We can extract information from the test file using Runtheprogram and PatientData"
   ]
  },
  {
   "cell_type": "code",
   "execution_count": 7,
   "id": "41bdd915",
   "metadata": {},
   "outputs": [
    {
     "name": "stdout",
     "output_type": "stream",
     "text": [
      "This module returns a pandas dataset (use .Dataframe) \n",
      "You can then process this dataframe for an individual Accession or over the entire dataset \n"
     ]
    }
   ],
   "source": [
    "#First just use RunTheProgram\n",
    "UseTestdata = RunTheProgram(Testfile)\n",
    "print(UseTestdata)"
   ]
  },
  {
   "cell_type": "code",
   "execution_count": 8,
   "id": "d4822e89",
   "metadata": {},
   "outputs": [],
   "source": [
    "#Now we can get the data in the form of a dataframe\n",
    "sourcedata = UseTestdata.Dataframe"
   ]
  },
  {
   "cell_type": "code",
   "execution_count": 9,
   "id": "8d217410",
   "metadata": {},
   "outputs": [],
   "source": [
    "#If we filter the dataset according to one specific patients data:\n",
    "AccessionNumber = ['REFNu10'] #This is a fake patient\n",
    "df = sourcedata.loc[sourcedata['Accession number'].isin(AccessionNumber)]"
   ]
  },
  {
   "cell_type": "code",
   "execution_count": 10,
   "id": "4503f8a1",
   "metadata": {},
   "outputs": [
    {
     "name": "stdout",
     "output_type": "stream",
     "text": [
      "Patient REFNu10 recieved a peak skin dose of 0.16 Gy\n"
     ]
    }
   ],
   "source": [
    "#we can discover a lot about the patient using Patient Data\n",
    "Patient = PatientData(df)\n",
    "print(Patient)"
   ]
  },
  {
   "cell_type": "code",
   "execution_count": 11,
   "id": "8a2184b2",
   "metadata": {},
   "outputs": [
    {
     "name": "stdout",
     "output_type": "stream",
     "text": [
      "The study was Cardiac Angio coronaries, \n",
      "performed on 1902-09-26 00:00:00 \n",
      "The Patient was 58.5 years old,\n",
      "and of sex M\n"
     ]
    }
   ],
   "source": [
    "#For example:\n",
    "print(f'The study was {Patient.Study}, \\n'\\\n",
    "      f'performed on {Patient.Date} \\n'\\\n",
    "      f'The Patient was {Patient.Age} years old,\\n'\\\n",
    "      f'and of sex {Patient.Sex}')"
   ]
  },
  {
   "cell_type": "code",
   "execution_count": 12,
   "id": "58018611",
   "metadata": {},
   "outputs": [
    {
     "data": {
      "image/png": "[encoded data removed]",
      "text/plain": [
       "<Figure size 700x500 with 2 Axes>"
      ]
     },
     "metadata": {},
     "output_type": "display_data"
    }
   ],
   "source": [
    "#We can plot the patients exam using:\n",
    "Patient.PlotMap()"
   ]
  },
  {
   "cell_type": "markdown",
   "id": "9c5278a6",
   "metadata": {},
   "source": [
    "## Alternatively this can all be completed automatically using RuntheProgram"
   ]
  },
  {
   "cell_type": "code",
   "execution_count": 13,
   "id": "80004c51",
   "metadata": {},
   "outputs": [
    {
     "data": {
      "image/png": "[encoded data removed]",
      "text/plain": [
       "<Figure size 700x500 with 2 Axes>"
      ]
     },
     "metadata": {},
     "output_type": "display_data"
    },
    {
     "name": "stdout",
     "output_type": "stream",
     "text": [
      "PSD = 0.927 Gy\n"
     ]
    }
   ],
   "source": [
    "# We already defined UseTestdata: Note this outputs a map and all the relevant data\n",
    "AccessionNumber = ['REFNu1'] #This is another fake patient\n",
    "Patientinfo = UseTestdata.IndividualsData(AccessionNumber)"
   ]
  },
  {
   "cell_type": "code",
   "execution_count": 14,
   "id": "627460e3",
   "metadata": {},
   "outputs": [
    {
     "name": "stdout",
     "output_type": "stream",
     "text": [
      "Patient REFNu1 recieved a peak skin dose of 0.93 Gy\n"
     ]
    }
   ],
   "source": [
    "#If we view the returned value, we can see that it takes the same form as a PatientData output\n",
    "print(Patientinfo)"
   ]
  },
  {
   "cell_type": "code",
   "execution_count": 15,
   "id": "8e7c9da4",
   "metadata": {},
   "outputs": [
    {
     "name": "stdout",
     "output_type": "stream",
     "text": [
      "The study was Angio splenic, \n",
      "performed on 1902-09-26 00:00:00 \n",
      "The Patient was 57.6 years old,\n",
      "and of sex F\n"
     ]
    }
   ],
   "source": [
    "#For example:\n",
    "print(f'The study was {Patientinfo.Study}, \\n'\\\n",
    "      f'performed on {Patientinfo.Date} \\n'\\\n",
    "      f'The Patient was {Patientinfo.Age} years old,\\n'\\\n",
    "      f'and of sex {Patientinfo.Sex}')"
   ]
  },
  {
   "cell_type": "code",
   "execution_count": 16,
   "id": "23a6fad9",
   "metadata": {},
   "outputs": [
    {
     "name": "stdout",
     "output_type": "stream",
     "text": [
      "PSD = 0.927 Gy\n"
     ]
    }
   ],
   "source": [
    "#There is an additional output however:\n",
    "print(f'{Patientinfo.String}')"
   ]
  },
  {
   "cell_type": "markdown",
   "id": "76fe8e06",
   "metadata": {},
   "source": [
    "## We can also process an entire dataset"
   ]
  },
  {
   "cell_type": "code",
   "execution_count": 17,
   "id": "c98412bc",
   "metadata": {},
   "outputs": [
    {
     "name": "stdout",
     "output_type": "stream",
     "text": [
      "This may take a while. Cycle Starting...\n",
      "Progress at 9.1%\n",
      "Progressed to 100% Completed!\n",
      "Total time = 0.2735761165618896 min\n"
     ]
    }
   ],
   "source": [
    "'''If we want to process the entire dataset we can use'''\n",
    "#Note: This may take some time\n",
    "entiredataframe = UseTestdata.EntireDataset()"
   ]
  },
  {
   "cell_type": "code",
   "execution_count": 18,
   "id": "acad0f5b",
   "metadata": {},
   "outputs": [
    {
     "name": "stdout",
     "output_type": "stream",
     "text": [
      "         Date Accession number Operator          Study description   Age Sex  \\\n",
      "0  1902-09-26           REFNu1  not inc              Angio splenic  57.6   F   \n",
      "1  1902-09-26          REFNu10  not inc   Cardiac Angio coronaries  58.5   M   \n",
      "2  1902-09-26          REFNu11  not inc   Cardiac Angio coronaries  51.4   M   \n",
      "3  1902-09-26           REFNu2  not inc                       ERCP  72.0   M   \n",
      "4  1902-09-26           REFNu3  not inc    ERCP and sphincterotomy  60.6   M   \n",
      "5  1902-09-26           REFNu4  not inc       Angio Lower Limbs Rt  67.7   F   \n",
      "6  1902-09-26           REFNu5  not inc                       ERCP  83.8   F   \n",
      "7  1902-09-26           REFNu6  not inc       Angio Lower Limbs Rt  66.1   M   \n",
      "8  1902-09-26           REFNu7  not inc       Angio Lower Limbs Lt  92.6   F   \n",
      "9  1902-09-26           REFNu8  not inc  Fistulogram upper Limb Rt  52.8   M   \n",
      "10 1902-09-26           REFNu9  not inc   Cardiac Angio coronaries  57.0   F   \n",
      "\n",
      "    Height  Weight   RPdose      DAP       PSD     unc  \n",
      "0    178.6    73.0  0.96889  3614.17  0.926828  0.0000  \n",
      "1    188.0    95.0  0.45599  2637.68  0.159955  0.0484  \n",
      "2    175.0    67.0  0.10675   863.14  0.055023  0.0211  \n",
      "3    178.6    73.0  0.02014   226.80  0.018302  0.0000  \n",
      "4    178.6    73.0  0.01107   197.61  0.010028  0.0000  \n",
      "5    178.6    73.0  0.00482   107.87  0.004444  0.0000  \n",
      "6    178.6    73.0  0.00104    27.00  0.000942  0.0000  \n",
      "7    178.6    73.0  0.00273    64.51  0.002646  0.0000  \n",
      "8    178.6    73.0  0.00556    84.97  0.005039  0.0000  \n",
      "9    178.6    73.0  0.01531   339.04  0.013872  0.0000  \n",
      "10   160.0   119.0  0.18189  1022.72  0.057413  0.0020  \n"
     ]
    }
   ],
   "source": [
    "print(entiredataframe)"
   ]
  },
  {
   "cell_type": "markdown",
   "id": "15319cb4",
   "metadata": {},
   "source": [
    "This can be saved using entiredataframe.to_csv(args)"
   ]
  },
  {
   "cell_type": "code",
   "execution_count": null,
   "id": "b46f19cd",
   "metadata": {},
   "outputs": [],
   "source": []
  }
 ],
 "metadata": {
  "kernelspec": {
   "display_name": "Python 3 (ipykernel)",
   "language": "python",
   "name": "python3"
  },
  "language_info": {
   "codemirror_mode": {
    "name": "ipython",
    "version": 3
   },
   "file_extension": ".py",
   "mimetype": "text/x-python",
   "name": "python",
   "nbconvert_exporter": "python",
   "pygments_lexer": "ipython3",
   "version": "3.10.9"
  }
 },
 "nbformat": 4,
 "nbformat_minor": 5
}
