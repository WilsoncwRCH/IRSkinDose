{
 "cells": [
  {
   "cell_type": "markdown",
   "id": "dfd71012",
   "metadata": {},
   "source": [
    "This should walk you through how to use our software"
   ]
  },
  {
   "cell_type": "code",
   "execution_count": null,
   "id": "53776fdd",
   "metadata": {},
   "outputs": [],
   "source": [
    "#First import all the relevant functions\n",
    "import numpy as np\n",
    "import pandas as pd\n",
    "import matplotlib.pyplot as plt\n",
    "import matplotlib\n",
    "import sys,time\n",
    "\n",
    "#Then import my prewritten classes\n",
    "from RunningTheCode import RunTheProgram\n",
    "from PhantomAndMap import Phantom, PatientData"
   ]
  },
  {
   "cell_type": "markdown",
   "id": "6913840c",
   "metadata": {},
   "source": [
    "Now you need to export a .xlsx file from OpenREM:\n",
    "Go to OpenREM -> Fluoroscopy -> (set your preferences and press 'Submit') -> XLSX export\n",
    "\n",
    "Save this wherever you want and keep note of the destination."
   ]
  },
  {
   "cell_type": "code",
   "execution_count": null,
   "id": "d93ba365",
   "metadata": {},
   "outputs": [],
   "source": [
    "Testfile = 'TestDataset.xlsx' #The destination"
   ]
  },
  {
   "cell_type": "code",
   "execution_count": null,
   "id": "e0ed01ad",
   "metadata": {},
   "outputs": [],
   "source": [
    "''' We have a simple Phantom model called Phantom'''\n",
    "#return Phantom parameters based on Patient size\n",
    "Height = 170 #cm\n",
    "Weight = 70 #kg\n",
    "P = Phantom(Height, Weight)"
   ]
  },
  {
   "cell_type": "code",
   "execution_count": 1,
   "id": "ed6335f4",
   "metadata": {},
   "outputs": [
    {
     "ename": "NameError",
     "evalue": "name 'P' is not defined",
     "output_type": "error",
     "traceback": [
      "\u001b[0;31m---------------------------------------------------------------------------\u001b[0m",
      "\u001b[0;31mNameError\u001b[0m                                 Traceback (most recent call last)",
      "Cell \u001b[0;32mIn[1], line 2\u001b[0m\n\u001b[1;32m      1\u001b[0m \u001b[38;5;66;03m#This gives multiple values:\u001b[39;00m\n\u001b[0;32m----> 2\u001b[0m CR \u001b[38;5;241m=\u001b[39m \u001b[43mP\u001b[49m\u001b[38;5;241m.\u001b[39mCurvatureRadius\n\u001b[1;32m      3\u001b[0m FW \u001b[38;5;241m=\u001b[39m P\u001b[38;5;241m.\u001b[39mFlattenedwidth\n\u001b[1;32m      4\u001b[0m \u001b[38;5;28mprint\u001b[39m(\u001b[38;5;124mf\u001b[39m\u001b[38;5;124m'\u001b[39m\u001b[38;5;124mCurve radius = \u001b[39m\u001b[38;5;132;01m{\u001b[39;00mCR\u001b[38;5;132;01m}\u001b[39;00m\u001b[38;5;124m, Flat Width = \u001b[39m\u001b[38;5;132;01m{\u001b[39;00mFW\u001b[38;5;132;01m}\u001b[39;00m\u001b[38;5;124m'\u001b[39m)\n",
      "\u001b[0;31mNameError\u001b[0m: name 'P' is not defined"
     ]
    }
   ],
   "source": [
    "#This gives multiple values:\n",
    "CR = P.CurvatureRadius\n",
    "FW = P.Flattenedwidth\n",
    "print(f'Curve radius = {CR}, Flat Width = {FW}')"
   ]
  },
  {
   "cell_type": "code",
   "execution_count": null,
   "id": "0d731b02",
   "metadata": {},
   "outputs": [],
   "source": []
  },
  {
   "cell_type": "code",
   "execution_count": null,
   "id": "d17f9aa7",
   "metadata": {},
   "outputs": [],
   "source": []
  },
  {
   "cell_type": "code",
   "execution_count": null,
   "id": "41bdd915",
   "metadata": {},
   "outputs": [],
   "source": []
  },
  {
   "cell_type": "code",
   "execution_count": null,
   "id": "d4822e89",
   "metadata": {},
   "outputs": [],
   "source": []
  }
 ],
 "metadata": {
  "kernelspec": {
   "display_name": "Python 3 (ipykernel)",
   "language": "python",
   "name": "python3"
  },
  "language_info": {
   "codemirror_mode": {
    "name": "ipython",
    "version": 3
   },
   "file_extension": ".py",
   "mimetype": "text/x-python",
   "name": "python",
   "nbconvert_exporter": "python",
   "pygments_lexer": "ipython3",
   "version": "3.10.9"
  }
 },
 "nbformat": 4,
 "nbformat_minor": 5
}
